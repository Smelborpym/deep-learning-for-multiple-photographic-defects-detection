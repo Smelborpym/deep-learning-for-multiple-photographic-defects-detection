{
 "cells": [
  {
   "cell_type": "markdown",
   "metadata": {},
   "source": [
    "# Yahoo Flickr subset"
   ]
  },
  {
   "cell_type": "markdown",
   "metadata": {},
   "source": [
    "Load paths"
   ]
  },
  {
   "cell_type": "code",
   "execution_count": null,
   "metadata": {},
   "outputs": [],
   "source": [
    "import json\n",
    "import os\n",
    "with open('../paths.json', 'r') as f:\n",
    "    paths = json.load(f)\n",
    "    pdownloads = paths[\"paths\"][paths[\"cloud\"]][\"downloads\"]\n",
    "    pdatasets = paths[\"paths\"][paths[\"cloud\"]][\"datasets\"]"
   ]
  },
  {
   "cell_type": "code",
   "execution_count": null,
   "metadata": {},
   "outputs": [],
   "source": [
    "if(not(os.path.isdir(pdownloads))):\n",
    "    !mkdir $pdownloads\n",
    "if(not(os.path.isdir(pdatasets))):\n",
    "    !mkdir $pdatasets\n",
    "    !mkdir $pdatasets/yf\n",
    "    !mkdir $pdatasets/yf/labels\n",
    "    !mkdir $pdatasets/yf/images"
   ]
  },
  {
   "cell_type": "markdown",
   "metadata": {},
   "source": [
    "## Download images"
   ]
  },
  {
   "cell_type": "code",
   "execution_count": null,
   "metadata": {},
   "outputs": [],
   "source": [
    "import json\n",
    "import os\n",
    "with open('yf labels/links.json', 'r') as f:\n",
    "    links_json = json.load(f)"
   ]
  },
  {
   "cell_type": "code",
   "execution_count": null,
   "metadata": {},
   "outputs": [],
   "source": [
    "i = 0\n",
    "for x in links_json:\n",
    "    link = links_json[x]\n",
    "    name = link.split('/')[-1]\n",
    "    if(not(os.path.isfile(pdatasets+'/yf/images/' + name))):\n",
    "        !wget $link\n",
    "        !mv $name $pdatasets/yf/images/$name\n",
    "        i = i + 1\n",
    "print(i)"
   ]
  },
  {
   "cell_type": "markdown",
   "metadata": {},
   "source": [
    "Check for 0 sized files, to re-download them"
   ]
  },
  {
   "cell_type": "code",
   "execution_count": null,
   "metadata": {},
   "outputs": [],
   "source": [
    "!find $pdatasets/yf/images -size 0 -print"
   ]
  },
  {
   "cell_type": "markdown",
   "metadata": {},
   "source": [
    "Check for files that cannot be opened by PIL"
   ]
  },
  {
   "cell_type": "code",
   "execution_count": null,
   "metadata": {},
   "outputs": [],
   "source": [
    "import pandas as pd\n",
    "train_df = pd.read_json('yf labels/train.json')\n",
    "test_df = pd.read_json('yf labels/test.json')\n",
    "df = pd.concat([train_df, test_df], ignore_index=True)\n",
    "\n",
    "failed = []\n",
    "i = 0\n",
    "f = 0\n",
    "from PIL import Image\n",
    "from PIL import ImageFile\n",
    "ImageFile.LOAD_TRUNCATED_IMAGES = True\n",
    "\n",
    "for x in df[\"image\"]:\n",
    "    i = i + 1\n",
    "    try:\n",
    "        img = Image.open(pdatasets+'/yf/images/' + x, 'r')\n",
    "    except:\n",
    "        failed.append(x)\n",
    "        f = f + 1\n",
    "    print(\"processed \" + str(i) + \", failed \" + str(f))"
   ]
  },
  {
   "cell_type": "code",
   "execution_count": null,
   "metadata": {},
   "outputs": [],
   "source": [
    "print(failed)"
   ]
  },
  {
   "cell_type": "code",
   "execution_count": null,
   "metadata": {},
   "outputs": [],
   "source": []
  }
 ],
 "metadata": {
  "kernelspec": {
   "display_name": "Python 3",
   "language": "python",
   "name": "python3"
  },
  "language_info": {
   "codemirror_mode": {
    "name": "ipython",
    "version": 3
   },
   "file_extension": ".py",
   "mimetype": "text/x-python",
   "name": "python",
   "nbconvert_exporter": "python",
   "pygments_lexer": "ipython3",
   "version": "3.7.3"
  }
 },
 "nbformat": 4,
 "nbformat_minor": 4
}
