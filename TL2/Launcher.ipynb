{
 "cells": [
  {
   "cell_type": "markdown",
   "metadata": {},
   "source": [
    "# Initiazing training files, folders and variables"
   ]
  },
  {
   "cell_type": "code",
   "execution_count": null,
   "metadata": {},
   "outputs": [],
   "source": [
    "import json\n",
    "import os\n",
    "with open('../paths.json', 'r') as f:\n",
    "    paths = json.load(f)\n",
    "    ptdata = paths[\"paths\"][paths[\"cloud\"]][\"training_data\"]"
   ]
  },
  {
   "cell_type": "code",
   "execution_count": null,
   "metadata": {},
   "outputs": [],
   "source": [
    "if(not(os.path.isdir(ptdata))):\n",
    "    !mkdir $ptdata\n",
    "\n",
    "if(not(os.path.isdir(ptdata+\"/TL2\"))):\n",
    "    !mkdir $ptdata/TL2\n",
    "\n",
    "if(not(os.path.isdir(ptdata+\"/TL2/training_checkpoints\"))):\n",
    "    !mkdir $ptdata/TL2/training_checkpoints\n",
    "\n",
    "if(not(os.path.isdir(ptdata+\"/TL2/training_output\"))):\n",
    "    !mkdir $ptdata/TL2/training_output\n",
    "\n",
    "if(not(os.path.isdir(ptdata+\"/TL2/training_errors\"))):\n",
    "    !mkdir $ptdata/TL2/training_errors\n",
    "\n",
    "if(not(os.path.isdir(ptdata+\"/TL2/model_weights\"))):\n",
    "    !mkdir $ptdata/TL2/model_weights\n",
    "\n",
    "if(not(os.path.isfile(ptdata+\"/TL2/last_epoch.num\"))):\n",
    "    epf = open(ptdata+\"/TL2/last_epoch.num\", \"w\")\n",
    "    epf.write(\"0\")\n",
    "    epf.close()\n",
    "\n",
    "if(not(os.path.isfile(ptdata+\"/TL2/model_weights/model-ep0.hdf5\"))):\n",
    "    import numpy as np\n",
    "    print('numpy version : ', np.version.version)\n",
    "    import tensorflow as tf\n",
    "    print('tensorflow version : ', tf.__version__)\n",
    "    import tensorflow.keras\n",
    "    print('tensorflow keras version : ', tensorflow.keras.__version__)\n",
    "    from tensorflow.keras.models import Sequential\n",
    "    from tensorflow.keras.layers import Activation\n",
    "    vgg16_model = tensorflow.keras.applications.vgg16.VGG16()\n",
    "    #type(vgg16_model)\n",
    "    #vgg16_model.summary()\n",
    "    model = Sequential()\n",
    "    for layer in vgg16_model.layers:\n",
    "        model.add(layer)\n",
    "    model.pop()\n",
    "    model.add(tensorflow.keras.layers.Dense(10, activation='softmax'))\n",
    "    for layer in model.layers:\n",
    "        layer.trainable = True\n",
    "    #model.summary()\n",
    "    model.save(ptdata+\"/TL2/model_weights/model-ep0.hdf5\", include_optimizer=False)\n",
    "    if(not(os.path.isfile(ptdata+\"/TL2/model_weights/model-ep0.hdf5\"))):\n",
    "        print(\"Could not save model !!!\")\n",
    "    else:\n",
    "        print(\"model saved\")\n",
    "\n",
    "!ls $ptdata/TL2\n",
    "print(\"==> last_epoch.num :\")\n",
    "!cat $ptdata/TL2/last_epoch.num\n",
    "print()\n",
    "print(\"==> model_weights :\")\n",
    "!ls $ptdata/TL2/model_weights\n",
    "print(\"==> training_checkpoints :\")\n",
    "!ls $ptdata/TL2/training_checkpoints\n",
    "print(\"==> training_output :\")\n",
    "!ls $ptdata/TL2/training_output"
   ]
  },
  {
   "cell_type": "markdown",
   "metadata": {},
   "source": [
    "# Start training"
   ]
  },
  {
   "cell_type": "code",
   "execution_count": null,
   "metadata": {},
   "outputs": [],
   "source": [
    "# uncomment next line if this is the training environment\n",
    "#!echo 1 > ../prod.flag"
   ]
  },
  {
   "cell_type": "code",
   "execution_count": null,
   "metadata": {},
   "outputs": [],
   "source": [
    "total_epochs = 200\n",
    "epf = open(ptdata+\"/TL2/last_epoch.num\", \"r\")\n",
    "last_epoch = int(epf.readlines()[0])\n",
    "epf.close()\n",
    "while(True):\n",
    "    if(last_epoch == total_epochs):\n",
    "        break\n",
    "    print(\"Last epoch number : \", last_epoch)\n",
    "    next_epoch = last_epoch + 1\n",
    "    print(\"Next epoch number : \", next_epoch)\n",
    "    !jupyter nbconvert --to script ./Training.ipynb\n",
    "    training_output = ptdata+\"/TL2/training_output/training\" + str(next_epoch) + \".out\"\n",
    "    !ipython ./Training.py > $training_output\n",
    "    !rm Training.py\n",
    "    f = open(training_output, 'r')\n",
    "    lines = f.read().splitlines()\n",
    "    last_line = lines[-1]\n",
    "    if(last_line == \"model saved\"):\n",
    "        epf = open(ptdata+\"/TL2/last_epoch.num\", \"w\")\n",
    "        epf.write(str(next_epoch))\n",
    "        epf.close()\n",
    "        !cat $ptdata/TL2/last_epoch.num\n",
    "        last_epoch = next_epoch\n",
    "    else:\n",
    "        training_output_e = ptdata + '/TL2/training_errors/training' + str(next_epoch) + \".out\"\n",
    "        !mv $training_output $training_output_e\n",
    "    print()\n",
    "    print(\"*********************************************************************************\")\n",
    "    print()\n",
    "print(\"Finished !\")"
   ]
  },
  {
   "cell_type": "code",
   "execution_count": null,
   "metadata": {},
   "outputs": [],
   "source": []
  }
 ],
 "metadata": {
  "kernelspec": {
   "display_name": "Python 3",
   "language": "python",
   "name": "python3"
  },
  "language_info": {
   "codemirror_mode": {
    "name": "ipython",
    "version": 3
   },
   "file_extension": ".py",
   "mimetype": "text/x-python",
   "name": "python",
   "nbconvert_exporter": "python",
   "pygments_lexer": "ipython3",
   "version": "3.7.3"
  }
 },
 "nbformat": 4,
 "nbformat_minor": 4
}
