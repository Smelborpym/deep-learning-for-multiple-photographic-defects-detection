{
 "cells": [
  {
   "cell_type": "markdown",
   "metadata": {},
   "source": [
    "# Monitoring"
   ]
  },
  {
   "cell_type": "markdown",
   "metadata": {},
   "source": [
    "This script will allow you to monitor the training process by regularely printing the last lines of the training output"
   ]
  },
  {
   "cell_type": "code",
   "execution_count": null,
   "metadata": {},
   "outputs": [],
   "source": [
    "import time\n",
    "import json\n",
    "import os\n",
    "with open('../paths.json', 'r') as f:\n",
    "    paths = json.load(f)\n",
    "    ptdata = paths[\"paths\"][paths[\"cloud\"]][\"training_data\"]\n",
    "\n",
    "epf = open(ptdata+\"/TL2/last_epoch.num\", \"r\")\n",
    "cur_epoch = int(epf.readlines()[0]) + 1\n",
    "epf.close()\n",
    "\n",
    "# Monitoring for 5 minutes, re-run to restart monitoring session\n",
    "for i in range(60):\n",
    "    with open(ptdata+'/TL2/training_output/training' + str(cur_epoch) + '.out', 'r') as f:\n",
    "        lines = f.read().splitlines()\n",
    "        last_line = lines[-1]\n",
    "        print ('\\r'+last_line, end='')\n",
    "        sp = last_line.split('/')\n",
    "        \n",
    "    time.sleep(5)"
   ]
  }
 ],
 "metadata": {
  "kernelspec": {
   "display_name": "Python 3",
   "language": "python",
   "name": "python3"
  },
  "language_info": {
   "codemirror_mode": {
    "name": "ipython",
    "version": 3
   },
   "file_extension": ".py",
   "mimetype": "text/x-python",
   "name": "python",
   "nbconvert_exporter": "python",
   "pygments_lexer": "ipython3",
   "version": "3.7.3"
  }
 },
 "nbformat": 4,
 "nbformat_minor": 4
}
