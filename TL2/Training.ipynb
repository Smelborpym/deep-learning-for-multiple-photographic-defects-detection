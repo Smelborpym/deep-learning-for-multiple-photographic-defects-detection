{
 "cells": [
  {
   "cell_type": "code",
   "execution_count": null,
   "metadata": {},
   "outputs": [],
   "source": [
    "print()\n",
    "import os\n",
    "import json\n",
    "with open('../paths.json', 'r') as f:\n",
    "    paths = json.load(f)\n",
    "    ptdata = paths[\"paths\"][paths[\"cloud\"]][\"training_data\"]\n",
    "    pdatasets = paths[\"paths\"][paths[\"cloud\"]][\"datasets\"]\n",
    "\n",
    "# Check if code is running in production environment\n",
    "isProd = (os.path.isfile(\"../prod.flag\"))\n",
    "if(isProd):\n",
    "    print(\"PROD environment\")\n",
    "else:\n",
    "    print(\"DEV environment\")\n",
    "\n",
    "# Get last finished epoch number\n",
    "epf = open(ptdata+\"/TL2/last_epoch.num\", \"r\")\n",
    "last_epoch = int(epf.readlines()[0])\n",
    "epf.close()\n",
    "next_epoch = last_epoch + 1\n",
    "\n",
    "\n",
    "print()\n",
    "print(\"Last epoch : \", last_epoch)\n",
    "print(\"Next epoch : \", next_epoch)\n",
    "\n",
    "if(not(isProd)):\n",
    "    my_batch_size = 32\n",
    "    my_steps_per_epoch = 10\n",
    "    my_validation_steps = 5\n",
    "    my_validation_split = 0.02"
   ]
  },
  {
   "cell_type": "markdown",
   "metadata": {},
   "source": [
    "# Loading libraries"
   ]
  },
  {
   "cell_type": "code",
   "execution_count": null,
   "metadata": {},
   "outputs": [],
   "source": [
    "# Order computing units (CPUs, GPUs) by bus ID\n",
    "os.environ[\"CUDA_DEVICE_ORDER\"] = \"PCI_BUS_ID\"\n",
    "# set to -1 to use CPU only\n",
    "#os.environ['CUDA_VISIBLE_DEVICES'] = '-1'"
   ]
  },
  {
   "cell_type": "code",
   "execution_count": null,
   "metadata": {},
   "outputs": [],
   "source": [
    "import multiprocessing"
   ]
  },
  {
   "cell_type": "code",
   "execution_count": null,
   "metadata": {},
   "outputs": [],
   "source": [
    "import numpy as np\n",
    "print('numpy version : ', np.version.version)"
   ]
  },
  {
   "cell_type": "code",
   "execution_count": null,
   "metadata": {},
   "outputs": [],
   "source": [
    "import tensorflow as tf\n",
    "tf.compat.v1.disable_eager_execution()\n",
    "print('tensorflow version : ', tf.__version__)"
   ]
  },
  {
   "cell_type": "code",
   "execution_count": null,
   "metadata": {},
   "outputs": [],
   "source": [
    "import tensorflow.keras\n",
    "print('tensorflow keras version : ', tensorflow.keras.__version__)\n",
    "from tensorflow.keras.models import Sequential\n",
    "from tensorflow.keras.models import load_model\n",
    "from tensorflow.keras.layers import Activation\n",
    "from tensorflow.keras.optimizers import SGD\n",
    "from tensorflow.keras.preprocessing.image import ImageDataGenerator\n",
    "from tensorflow.keras.callbacks import LearningRateScheduler\n",
    "from tensorflow.compat.v1 import placeholder"
   ]
  },
  {
   "cell_type": "code",
   "execution_count": null,
   "metadata": {},
   "outputs": [],
   "source": [
    "import math\n",
    "from matplotlib import pyplot as plt\n",
    "import itertools\n",
    "import matplotlib.pyplot as plt\n",
    "%matplotlib inline\n",
    "from PIL import ImageFile\n",
    "ImageFile.LOAD_TRUNCATED_IMAGES = True"
   ]
  },
  {
   "cell_type": "code",
   "execution_count": null,
   "metadata": {},
   "outputs": [],
   "source": [
    "import pandas as pd\n",
    "#print('pandas version : ', pd.show_versions())"
   ]
  },
  {
   "cell_type": "markdown",
   "metadata": {},
   "source": [
    "# Processing units info"
   ]
  },
  {
   "cell_type": "code",
   "execution_count": null,
   "metadata": {},
   "outputs": [],
   "source": [
    "from tensorflow.python.client import device_lib\n",
    "print(device_lib.list_local_devices())"
   ]
  },
  {
   "cell_type": "markdown",
   "metadata": {},
   "source": [
    "# Loading and processing training and validation Dataframe"
   ]
  },
  {
   "cell_type": "code",
   "execution_count": null,
   "metadata": {},
   "outputs": [],
   "source": [
    "df = pd.read_json('yf labels/train.json')\n",
    "#df"
   ]
  },
  {
   "cell_type": "markdown",
   "metadata": {},
   "source": [
    "# Generating and augmenting training and validation images"
   ]
  },
  {
   "cell_type": "code",
   "execution_count": null,
   "metadata": {},
   "outputs": [],
   "source": [
    "if(isProd):\n",
    "    my_batch_size = 64\n",
    "    my_validation_split = 0.1\n",
    "    my_steps_per_epoch = int(int(df.shape[0] * (1 - my_validation_split)) / my_batch_size)\n",
    "    my_validation_steps = int(int(df.shape[0] * my_validation_split) / my_batch_size)\n",
    "print(\"database size :\", df.shape[0], \"validation split :\", my_validation_split, \n",
    "      \"training size :\", int(df.shape[0] * (1 - my_validation_split)), \n",
    "      \"validation size :\", int(df.shape[0] * my_validation_split))\n",
    "print(\"training batch size :\", my_batch_size, \", steps per epoch :\", my_steps_per_epoch)\n",
    "print(\"validation batch size :\", my_batch_size, \", validation steps :\", my_validation_steps)"
   ]
  },
  {
   "cell_type": "code",
   "execution_count": null,
   "metadata": {},
   "outputs": [],
   "source": [
    "print(\"Available data :\", end=\"\")\n",
    "!ls $pdatasets/ava/images | wc -l"
   ]
  },
  {
   "cell_type": "code",
   "execution_count": null,
   "metadata": {},
   "outputs": [],
   "source": [
    "dataset_path = pdatasets+'/yf/images'\n",
    "train_path = dataset_path\n",
    "valid_path = dataset_path"
   ]
  },
  {
   "cell_type": "code",
   "execution_count": null,
   "metadata": {},
   "outputs": [],
   "source": [
    "# Generates batches of tensor image data with real-time data augmentation.\n",
    "# rescaling pixels values, random horizontal flip activated, validation split percentage\n",
    "img_gen = ImageDataGenerator(rescale=1/255., horizontal_flip=True, validation_split=my_validation_split)"
   ]
  },
  {
   "cell_type": "code",
   "execution_count": null,
   "metadata": {},
   "outputs": [],
   "source": [
    "# Takes the dataframe and the path to a directory and generates batches of augmented/normalized data for training.\n",
    "train_batches = img_gen.flow_from_dataframe(dataframe=df, directory=train_path, class_mode=\"raw\",\n",
    "                                            x_col=\"image\", y_col=[\"Bad Exposure\",\"Bad White Balance\",\n",
    "                                                                  \"Bad Saturation\",\"Noise\",\"Haze\",\n",
    "                                                                  \"Undesired Blur\",\"Bad Composition\"],\n",
    "                                            target_size=(224, 224), subset=\"training\", shuffle=True, \n",
    "                                            batch_size=my_batch_size)"
   ]
  },
  {
   "cell_type": "code",
   "execution_count": null,
   "metadata": {},
   "outputs": [],
   "source": [
    "# Takes the dataframe and the path to a directory and generates batches of augmented/normalized data for validation.\n",
    "valid_batches = img_gen.flow_from_dataframe(dataframe=df, directory=valid_path, class_mode=\"raw\",\n",
    "                                            x_col=\"image\", y_col=[\"Bad Exposure\",\"Bad White Balance\",\n",
    "                                                                  \"Bad Saturation\",\"Noise\",\"Haze\",\n",
    "                                                                  \"Undesired Blur\",\"Bad Composition\"],\n",
    "                                              target_size=(224, 224), subset=\"validation\", shuffle=True, \n",
    "                                              batch_size=my_batch_size)"
   ]
  },
  {
   "cell_type": "code",
   "execution_count": null,
   "metadata": {},
   "outputs": [],
   "source": [
    "# Plots images with labels within jupyter notebook\n",
    "def plots(ims, figsize=(20,6), rows=1, interp=False, titles=None):\n",
    "    if type(ims[0]) is np.ndarray:\n",
    "        ims = np.array(ims).astype(np.uint8)\n",
    "        if (ims.shape[-1] != 3):\n",
    "            ims = ims.transpose((0,2,3,1))\n",
    "    f = plt.figure(figsize=figsize)\n",
    "    cols = len(ims)//rows if len(ims) % 2 == 0 else len(ims)//rows + 1\n",
    "    for i in range(len(ims)):\n",
    "        sp = f.add_subplot(rows, cols, i+1)\n",
    "        sp.axis('Off')\n",
    "        if titles is not None:\n",
    "            sp.set_title(titles[i], fontsize=10)\n",
    "        plt.imshow(ims[i], interpolation=None if interp else 'none')"
   ]
  },
  {
   "cell_type": "code",
   "execution_count": null,
   "metadata": {},
   "outputs": [],
   "source": [
    "#imgs, labels = next(train_batches)\n",
    "#plots(imgs, titles=labels, rows=4)"
   ]
  },
  {
   "cell_type": "code",
   "execution_count": null,
   "metadata": {},
   "outputs": [],
   "source": [
    "#imgs, labels = next(train_batches)\n",
    "#plots(imgs, titles=labels, rows=4)"
   ]
  },
  {
   "cell_type": "markdown",
   "metadata": {},
   "source": [
    "# Loading last model weights"
   ]
  },
  {
   "cell_type": "code",
   "execution_count": null,
   "metadata": {},
   "outputs": [],
   "source": [
    "model = load_model(ptdata+'/TL2/model_weights/model-ep' + str(last_epoch) + '.hdf5')\n",
    "print(\"loaded model model_weights/model-ep\" + str(last_epoch) + \".hdf5\")\n",
    "cp_path = ptdata+\"/TL2/training_checkpoints/cp.ckpt\"\n",
    "if(last_epoch > 0):\n",
    "    model.load_weights(cp_path)\n",
    "    print(\"loaded checkpoint \", cp_path)\n",
    "\n",
    "# Checkpoint function to be called automatically after each epoch to save all training parameters\n",
    "cp_callback = tensorflow.keras.callbacks.ModelCheckpoint(filepath=cp_path, save_weights_only=True, verbose=1)"
   ]
  },
  {
   "cell_type": "markdown",
   "metadata": {},
   "source": [
    "# SGD optimizer"
   ]
  },
  {
   "cell_type": "code",
   "execution_count": null,
   "metadata": {},
   "outputs": [],
   "source": [
    "sgd = SGD(lr=0.001, momentum=0.9)"
   ]
  },
  {
   "cell_type": "markdown",
   "metadata": {},
   "source": [
    "# Compiling the model for training"
   ]
  },
  {
   "cell_type": "code",
   "execution_count": null,
   "metadata": {},
   "outputs": [],
   "source": [
    "model.compile(loss='mean_squared_error', optimizer=sgd, metrics=['accuracy'])"
   ]
  },
  {
   "cell_type": "markdown",
   "metadata": {},
   "source": [
    "# Starting training"
   ]
  },
  {
   "cell_type": "code",
   "execution_count": null,
   "metadata": {},
   "outputs": [],
   "source": [
    "model.fit(train_batches, steps_per_epoch=my_steps_per_epoch, \n",
    "          validation_data=valid_batches, validation_steps=my_validation_steps, \n",
    "          epochs=next_epoch, initial_epoch=last_epoch, verbose=1, callbacks=[cp_callback])"
   ]
  },
  {
   "cell_type": "code",
   "execution_count": null,
   "metadata": {},
   "outputs": [],
   "source": [
    "print(\"Epoch \", next_epoch, \" Training complete\")"
   ]
  },
  {
   "cell_type": "markdown",
   "metadata": {},
   "source": [
    "# Saving model"
   ]
  },
  {
   "cell_type": "code",
   "execution_count": null,
   "metadata": {},
   "outputs": [],
   "source": [
    "model.save(ptdata+'/TL2/model_weights/model-ep' + str(next_epoch) + '.hdf5', include_optimizer=False)\n",
    "print(\"model saved\")"
   ]
  },
  {
   "cell_type": "code",
   "execution_count": null,
   "metadata": {},
   "outputs": [],
   "source": []
  }
 ],
 "metadata": {
  "kernelspec": {
   "display_name": "Python 3",
   "language": "python",
   "name": "python3"
  },
  "language_info": {
   "codemirror_mode": {
    "name": "ipython",
    "version": 3
   },
   "file_extension": ".py",
   "mimetype": "text/x-python",
   "name": "python",
   "nbconvert_exporter": "python",
   "pygments_lexer": "ipython3",
   "version": "3.7.3"
  }
 },
 "nbformat": 4,
 "nbformat_minor": 4
}
