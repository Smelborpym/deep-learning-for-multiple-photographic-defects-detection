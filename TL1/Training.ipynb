{
 "cells": [
  {
   "cell_type": "code",
   "execution_count": null,
   "metadata": {},
   "outputs": [],
   "source": [
    "print()\n",
    "import os\n",
    "import json\n",
    "with open('../paths.json', 'r') as f:\n",
    "    paths = json.load(f)\n",
    "    ptdata = paths[\"paths\"][paths[\"cloud\"]][\"training_data\"]\n",
    "    pdatasets = paths[\"paths\"][paths[\"cloud\"]][\"datasets\"]\n",
    "\n",
    "# Check if code is running in production environment\n",
    "isProd = (os.path.isfile(\"../prod.flag\"))\n",
    "if(isProd):\n",
    "    print(\"PROD environment\")\n",
    "else:\n",
    "    print(\"DEV environment\")\n",
    "\n",
    "# Get last finished epoch number\n",
    "epf = open(ptdata+\"/TL1/last_epoch.num\", \"r\")\n",
    "last_epoch = int(epf.readlines()[0])\n",
    "epf.close()\n",
    "next_epoch = last_epoch + 1\n",
    "\n",
    "\n",
    "print()\n",
    "print(\"Last epoch : \", last_epoch)\n",
    "print(\"Next epoch : \", next_epoch)\n",
    "\n",
    "if(not(isProd)):\n",
    "    my_batch_size = 32\n",
    "    my_steps_per_epoch = 10\n",
    "    my_validation_steps = 5\n",
    "    my_validation_split = 0.02"
   ]
  },
  {
   "cell_type": "markdown",
   "metadata": {},
   "source": [
    "# Loading libraries"
   ]
  },
  {
   "cell_type": "code",
   "execution_count": null,
   "metadata": {},
   "outputs": [],
   "source": [
    "# Order computing units (CPUs, GPUs) by bus ID\n",
    "os.environ[\"CUDA_DEVICE_ORDER\"] = \"PCI_BUS_ID\"\n",
    "# set to -1 to use CPU only\n",
    "#os.environ['CUDA_VISIBLE_DEVICES'] = '-1'"
   ]
  },
  {
   "cell_type": "code",
   "execution_count": null,
   "metadata": {},
   "outputs": [],
   "source": [
    "import multiprocessing"
   ]
  },
  {
   "cell_type": "code",
   "execution_count": null,
   "metadata": {},
   "outputs": [],
   "source": [
    "import numpy as np\n",
    "print('numpy version : ', np.version.version)"
   ]
  },
  {
   "cell_type": "code",
   "execution_count": null,
   "metadata": {},
   "outputs": [],
   "source": [
    "import tensorflow as tf\n",
    "tf.compat.v1.disable_eager_execution()\n",
    "print('tensorflow version : ', tf.__version__)"
   ]
  },
  {
   "cell_type": "code",
   "execution_count": null,
   "metadata": {},
   "outputs": [],
   "source": [
    "import tensorflow.keras\n",
    "print('tensorflow keras version : ', tensorflow.keras.__version__)\n",
    "from tensorflow.keras.models import Sequential\n",
    "from tensorflow.keras.models import load_model\n",
    "from tensorflow.keras.layers import Activation\n",
    "from tensorflow.keras.optimizers import SGD\n",
    "from tensorflow.keras.preprocessing.image import ImageDataGenerator\n",
    "from tensorflow.keras.callbacks import LearningRateScheduler\n",
    "from tensorflow.compat.v1 import placeholder"
   ]
  },
  {
   "cell_type": "code",
   "execution_count": null,
   "metadata": {},
   "outputs": [],
   "source": [
    "import math\n",
    "from matplotlib import pyplot as plt\n",
    "import itertools\n",
    "import matplotlib.pyplot as plt\n",
    "%matplotlib inline\n",
    "from PIL import ImageFile\n",
    "ImageFile.LOAD_TRUNCATED_IMAGES = True"
   ]
  },
  {
   "cell_type": "code",
   "execution_count": null,
   "metadata": {},
   "outputs": [],
   "source": [
    "import pandas as pd\n",
    "#print('pandas version : ', pd.show_versions())"
   ]
  },
  {
   "cell_type": "markdown",
   "metadata": {},
   "source": [
    "# Processing units info"
   ]
  },
  {
   "cell_type": "code",
   "execution_count": null,
   "metadata": {},
   "outputs": [],
   "source": [
    "from tensorflow.python.client import device_lib\n",
    "print(device_lib.list_local_devices())"
   ]
  },
  {
   "cell_type": "markdown",
   "metadata": {},
   "source": [
    "# Loading and processing training and validation Dataframe"
   ]
  },
  {
   "cell_type": "code",
   "execution_count": null,
   "metadata": {},
   "outputs": [],
   "source": [
    "df = pd.read_json(pdatasets+'/ava/labels/train.json')\n",
    "#df"
   ]
  },
  {
   "cell_type": "markdown",
   "metadata": {},
   "source": [
    "# Generating and augmenting training and validation images"
   ]
  },
  {
   "cell_type": "code",
   "execution_count": null,
   "metadata": {},
   "outputs": [],
   "source": [
    "if(isProd):\n",
    "    my_batch_size = 64\n",
    "    my_validation_split = 0.02\n",
    "    my_steps_per_epoch = int(int(df.shape[0] * (1 - my_validation_split)) / my_batch_size)\n",
    "    my_validation_steps = int(int(df.shape[0] * my_validation_split) / my_batch_size)\n",
    "print(\"database size :\", df.shape[0], \"validation split :\", my_validation_split, \n",
    "      \"training size :\", int(df.shape[0] * (1 - my_validation_split)), \n",
    "      \"validation size :\", int(df.shape[0] * my_validation_split))\n",
    "print(\"training batch size :\", my_batch_size, \", steps per epoch :\", my_steps_per_epoch)\n",
    "print(\"validation batch size :\", my_batch_size, \", validation steps :\", my_validation_steps)"
   ]
  },
  {
   "cell_type": "code",
   "execution_count": null,
   "metadata": {},
   "outputs": [],
   "source": [
    "print(\"Available data :\", end=\"\")\n",
    "!ls $pdatasets/ava/images | wc -l"
   ]
  },
  {
   "cell_type": "code",
   "execution_count": null,
   "metadata": {},
   "outputs": [],
   "source": [
    "dataset_path = pdatasets+'/ava/images'\n",
    "train_path = dataset_path\n",
    "valid_path = dataset_path"
   ]
  },
  {
   "cell_type": "code",
   "execution_count": null,
   "metadata": {},
   "outputs": [],
   "source": [
    "# Generates batches of tensor image data with real-time data augmentation.\n",
    "# rescaling pixels values, random horizontal flip activated, validation split percentage\n",
    "img_gen = ImageDataGenerator(rescale=1/255., horizontal_flip=True, validation_split=my_validation_split)"
   ]
  },
  {
   "cell_type": "code",
   "execution_count": null,
   "metadata": {},
   "outputs": [],
   "source": [
    "# Takes the dataframe and the path to a directory and generates batches of augmented/normalized data for training.\n",
    "train_batches = img_gen.flow_from_dataframe(dataframe=df, directory=train_path, class_mode=\"raw\", \n",
    "                                              x_col=\"image_id\", y_col=[\"0\",\"1\",\"2\",\"3\",\"4\",\"5\",\"6\",\"7\",\"8\",\"9\"], \n",
    "                                              target_size=(256, 256), subset=\"training\", shuffle=True, \n",
    "                                              batch_size=my_batch_size)"
   ]
  },
  {
   "cell_type": "code",
   "execution_count": null,
   "metadata": {},
   "outputs": [],
   "source": [
    "# Takes the dataframe and the path to a directory and generates batches of augmented/normalized data for validation.\n",
    "valid_batches = img_gen.flow_from_dataframe(dataframe=df, directory=valid_path, class_mode=\"raw\", \n",
    "                                              x_col=\"image_id\", y_col=[\"0\",\"1\",\"2\",\"3\",\"4\",\"5\",\"6\",\"7\",\"8\",\"9\"], \n",
    "                                              target_size=(256, 256), subset=\"validation\", shuffle=True, \n",
    "                                              batch_size=my_batch_size)"
   ]
  },
  {
   "cell_type": "code",
   "execution_count": null,
   "metadata": {},
   "outputs": [],
   "source": [
    "# Crops a random 224x224 pieces of the 256x256 images\n",
    "def random_crop(img, random_crop_size):\n",
    "    # Note: image_data_format is 'channel_last'\n",
    "    assert img.shape[2] == 3\n",
    "    height, width = img.shape[0], img.shape[1]\n",
    "    dy, dx = random_crop_size\n",
    "    x = np.random.randint(0, width - dx + 1)\n",
    "    y = np.random.randint(0, height - dy + 1)\n",
    "    return img[y:(y+dy), x:(x+dx), :]\n",
    "\n",
    "\n",
    "def crop_generator(batches, crop_length):\n",
    "    \"\"\"Take as input a Keras ImageGen (Iterator) and generate random\n",
    "    crops from the image batches generated by the original iterator.\n",
    "    \"\"\"\n",
    "    while True:\n",
    "        batch_x, batch_y = next(batches)\n",
    "        batch_crops = np.zeros((batch_x.shape[0], crop_length, crop_length, 3))\n",
    "        for i in range(batch_x.shape[0]):\n",
    "            batch_crops[i] = random_crop(batch_x[i], (crop_length, crop_length))\n",
    "        yield (batch_crops, batch_y)"
   ]
  },
  {
   "cell_type": "code",
   "execution_count": null,
   "metadata": {},
   "outputs": [],
   "source": [
    "# Image generators after cropping\n",
    "train_crops = crop_generator(train_batches, 224)\n",
    "valid_crops = crop_generator(valid_batches, 224)"
   ]
  },
  {
   "cell_type": "code",
   "execution_count": null,
   "metadata": {},
   "outputs": [],
   "source": [
    "# Plots images with labels within jupyter notebook\n",
    "def plots(ims, figsize=(20,6), rows=1, interp=False, titles=None):\n",
    "    if type(ims[0]) is np.ndarray:\n",
    "        ims = np.array(ims).astype(np.uint8)\n",
    "        if (ims.shape[-1] != 3):\n",
    "            ims = ims.transpose((0,2,3,1))\n",
    "    f = plt.figure(figsize=figsize)\n",
    "    cols = len(ims)//rows if len(ims) % 2 == 0 else len(ims)//rows + 1\n",
    "    for i in range(len(ims)):\n",
    "        sp = f.add_subplot(rows, cols, i+1)\n",
    "        sp.axis('Off')\n",
    "        if titles is not None:\n",
    "            sp.set_title(titles[i], fontsize=10)\n",
    "        plt.imshow(ims[i], interpolation=None if interp else 'none')"
   ]
  },
  {
   "cell_type": "code",
   "execution_count": null,
   "metadata": {},
   "outputs": [],
   "source": [
    "#imgs, labels = next(train_crops)\n",
    "#plots(imgs, titles=labels, rows=4)"
   ]
  },
  {
   "cell_type": "code",
   "execution_count": null,
   "metadata": {},
   "outputs": [],
   "source": [
    "#imgs, labels = next(valid_crops)\n",
    "#plots(imgs, titles=labels, rows=4)"
   ]
  },
  {
   "cell_type": "markdown",
   "metadata": {},
   "source": [
    "# Loading last model weights"
   ]
  },
  {
   "cell_type": "code",
   "execution_count": null,
   "metadata": {},
   "outputs": [],
   "source": [
    "model = load_model(ptdata+'/TL1/model_weights/model-ep' + str(last_epoch) + '.hdf5')\n",
    "print(\"loaded model model_weights/model-ep\" + str(last_epoch) + \".hdf5\")\n",
    "cp_path = ptdata+\"/TL1/training_checkpoints/cp.ckpt\"\n",
    "if(last_epoch > 0):\n",
    "    model.load_weights(cp_path)\n",
    "    print(\"loaded checkpoint \", cp_path)\n",
    "\n",
    "# Checkpoint function to be called automatically after each epoch to save all training parameters\n",
    "cp_callback = tensorflow.keras.callbacks.ModelCheckpoint(filepath=cp_path, save_weights_only=True, verbose=1)"
   ]
  },
  {
   "cell_type": "markdown",
   "metadata": {},
   "source": [
    "# Loss function"
   ]
  },
  {
   "cell_type": "code",
   "execution_count": null,
   "metadata": {},
   "outputs": [],
   "source": [
    "def tril_indices(n, k=0):\n",
    "    \"\"\"Return the indices for the lower-triangle of an (n, m) array.\n",
    "    Works similarly to `np.tril_indices`\n",
    "    Args:\n",
    "      n: the row dimension of the arrays for which the returned indices will\n",
    "        be valid.\n",
    "      k: optional diagonal offset (see `np.tril` for details).\n",
    "    Returns:\n",
    "      inds: The indices for the triangle. The returned tuple contains two arrays,\n",
    "        each with the indices along one dimension of the array.\n",
    "    \"\"\"\n",
    "    m1 = tensorflow.tile(tensorflow.expand_dims(tensorflow.range(n), axis=0), [n, 1])\n",
    "    m2 = tensorflow.tile(tensorflow.expand_dims(tensorflow.range(n), axis=1), [1, n])\n",
    "    mask = (m1 - m2) >= -k\n",
    "    ix1 = tensorflow.boolean_mask(m2, tensorflow.transpose(mask))\n",
    "    ix2 = tensorflow.boolean_mask(m1, tensorflow.transpose(mask))\n",
    "    return ix1, ix2"
   ]
  },
  {
   "cell_type": "code",
   "execution_count": null,
   "metadata": {},
   "outputs": [],
   "source": [
    "def ecdf(p):\n",
    "    \"\"\"Estimate the cumulative distribution function.\n",
    "    The e.c.d.f. (empirical cumulative distribution function) F_n is a step\n",
    "    function with jump 1/n at each observation (possibly with multiple jumps\n",
    "    at one place if there are ties).\n",
    "    For observations x= (x_1, x_2, ... x_n), F_n is the fraction of\n",
    "    observations less or equal to t, i.e.,\n",
    "    F_n(t) = #{x_i <= t} / n = 1/n \\sum^{N}_{i=1} Indicator(x_i <= t).\n",
    "    Args:\n",
    "      p: a 2-D `Tensor` of observations of shape [batch_size, num_classes].\n",
    "        Classes are assumed to be ordered.\n",
    "    Returns:\n",
    "      A 2-D `Tensor` of estimated ECDFs.\n",
    "    \"\"\"\n",
    "    # if the following line produces a weird bug, replace it with `n = 10`\n",
    "    n = p.get_shape().as_list()[1]\n",
    "    indices = tril_indices(n)\n",
    "    indices = tensorflow.transpose(tensorflow.stack([indices[1], indices[0]]))\n",
    "    ones = tensorflow.ones([n * (n + 1) / 2])\n",
    "    triang = tensorflow.scatter_nd(indices, ones, [n, n])\n",
    "    return tensorflow.linalg.matmul(tensorflow.cast(p, tensorflow.float32), \n",
    "                                    tensorflow.cast(triang, tensorflow.float32))"
   ]
  },
  {
   "cell_type": "code",
   "execution_count": null,
   "metadata": {},
   "outputs": [],
   "source": [
    "def emd_loss(p, p_hat, r=2, scope=None):\n",
    "    \"\"\"Compute the Earth Mover's Distance loss.\n",
    "    Hou, Le, Chen-Ping Yu, and Dimitris Samaras. \"Squared Earth Mover's\n",
    "    Distance-based Loss for Training Deep Neural Networks.\" arXiv preprint\n",
    "    arXiv:1611.05916 (2016).\n",
    "    Args:\n",
    "      p: a 2-D `Tensor` of the ground truth probability mass functions.\n",
    "      p_hat: a 2-D `Tensor` of the estimated p.m.f.-s\n",
    "      r: a constant for the r-norm.\n",
    "      scope: optional name scope.\n",
    "    `p` and `p_hat` are assumed to have equal mass as \\sum^{N}_{i=1} p_i =\n",
    "    \\sum^{N}_{i=1} p_hat_i\n",
    "    Returns:\n",
    "      A 0-D `Tensor` of r-normed EMD loss.\n",
    "    \"\"\"\n",
    "    with tensorflow.keras.backend.name_scope('EmdLoss'):\n",
    "        ecdf_p = ecdf(p)\n",
    "        ecdf_p_hat = ecdf(p_hat)\n",
    "        emd = tensorflow.reduce_mean(tensorflow.pow(tensorflow.abs(ecdf_p - ecdf_p_hat), r), axis=-1)\n",
    "        emd = tensorflow.pow(emd, 1 / r)\n",
    "        return tensorflow.reduce_mean(emd)"
   ]
  },
  {
   "cell_type": "markdown",
   "metadata": {},
   "source": [
    "# SGD optimizer with an exponentially decaying learning rate"
   ]
  },
  {
   "cell_type": "code",
   "execution_count": null,
   "metadata": {},
   "outputs": [],
   "source": [
    "# Schedules an exponential decay of the learning rate\n",
    "# Initial learning rate lr = 10^-6\n",
    "# Number of training steps after which the exponential decay is applied\n",
    "# Decay Rate = 1 - Decay Factor\n",
    "# Mementum = 0.9\n",
    "lr_schedule = tf.keras.optimizers.schedules.ExponentialDecay(\n",
    "            initial_learning_rate=0.000001, \n",
    "            decay_steps=(my_steps_per_epoch*10), \n",
    "            decay_rate=0.05)\n",
    "opt = tf.keras.optimizers.SGD(learning_rate=lr_schedule, momentum=0.9)"
   ]
  },
  {
   "cell_type": "markdown",
   "metadata": {},
   "source": [
    "# Compiling the model for training"
   ]
  },
  {
   "cell_type": "code",
   "execution_count": null,
   "metadata": {},
   "outputs": [],
   "source": [
    "model.compile(optimizer=tensorflow.keras.optimizers.get(opt), loss=emd_loss, metrics=[\"accuracy\"])"
   ]
  },
  {
   "cell_type": "markdown",
   "metadata": {},
   "source": [
    "# Starting training"
   ]
  },
  {
   "cell_type": "code",
   "execution_count": null,
   "metadata": {},
   "outputs": [],
   "source": [
    "model.fit(train_crops, steps_per_epoch=my_steps_per_epoch, \n",
    "          validation_data=valid_crops, validation_steps=my_validation_steps, \n",
    "          epochs=next_epoch, initial_epoch=last_epoch, verbose=1, callbacks=[cp_callback])"
   ]
  },
  {
   "cell_type": "code",
   "execution_count": null,
   "metadata": {},
   "outputs": [],
   "source": [
    "print(\"Epoch \", next_epoch, \" Training complete\")"
   ]
  },
  {
   "cell_type": "markdown",
   "metadata": {},
   "source": [
    "# Saving model"
   ]
  },
  {
   "cell_type": "code",
   "execution_count": null,
   "metadata": {},
   "outputs": [],
   "source": [
    "model.save(ptdata+'/TL1/model_weights/model-ep' + str(next_epoch) + '.hdf5', include_optimizer=False)\n",
    "print(\"model saved\")"
   ]
  },
  {
   "cell_type": "code",
   "execution_count": null,
   "metadata": {},
   "outputs": [],
   "source": []
  }
 ],
 "metadata": {
  "kernelspec": {
   "display_name": "Python 3",
   "language": "python",
   "name": "python3"
  },
  "language_info": {
   "codemirror_mode": {
    "name": "ipython",
    "version": 3
   },
   "file_extension": ".py",
   "mimetype": "text/x-python",
   "name": "python",
   "nbconvert_exporter": "python",
   "pygments_lexer": "ipython3",
   "version": "3.7.3"
  }
 },
 "nbformat": 4,
 "nbformat_minor": 4
}
